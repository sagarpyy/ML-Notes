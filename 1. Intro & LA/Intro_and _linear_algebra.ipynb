{
 "cells": [
  {
   "cell_type": "markdown",
   "metadata": {},
   "source": [
    "## Intro to Machine Learning"
   ]
  },
  {
   "cell_type": "markdown",
   "metadata": {},
   "source": [
    "### Why AI?"
   ]
  },
  {
   "cell_type": "markdown",
   "metadata": {},
   "source": [
    "<img src = \"1.png\">"
   ]
  },
  {
   "cell_type": "markdown",
   "metadata": {},
   "source": [
    "### Applications"
   ]
  },
  {
   "cell_type": "markdown",
   "metadata": {},
   "source": [
    "Autonomous Checkout, Real Time System \n",
    "https://www.youtube.com/watch?v=yeS8TJwBAFs\n",
    "\n",
    "drive.ai Rainy Night Autonomous Drive\n",
    "https://www.youtube.com/watch?v=GMvgtPN2IBU\n",
    "\n",
    "Google Duplex I/O '18\n",
    "https://www.youtube.com/watch?v=2V6NHKmfnW0"
   ]
  },
  {
   "cell_type": "markdown",
   "metadata": {},
   "source": [
    "<img src = \"2.jpeg\">"
   ]
  },
  {
   "cell_type": "markdown",
   "metadata": {},
   "source": [
    "### AI vs ML vs DL"
   ]
  },
  {
   "cell_type": "code",
   "execution_count": 9,
   "metadata": {
    "ExecuteTime": {
     "end_time": "2018-06-03T17:45:21.374236Z",
     "start_time": "2018-06-03T17:45:21.355340Z"
    }
   },
   "outputs": [],
   "source": [
    "# Ven Diagram"
   ]
  },
  {
   "cell_type": "markdown",
   "metadata": {
    "ExecuteTime": {
     "end_time": "2018-06-03T15:34:16.182602Z",
     "start_time": "2018-06-03T15:34:16.151840Z"
    }
   },
   "source": [
    "## Lists"
   ]
  },
  {
   "cell_type": "code",
   "execution_count": 1,
   "metadata": {
    "ExecuteTime": {
     "end_time": "2018-06-04T07:21:14.603194Z",
     "start_time": "2018-06-04T07:21:14.581136Z"
    },
    "scrolled": true
   },
   "outputs": [
    {
     "name": "stdout",
     "output_type": "stream",
     "text": [
      "['shark', 'cuttlefish', 'squid', 'mantisshrimp', 'anemone']\n",
      "<class 'list'>\n",
      "5\n"
     ]
    }
   ],
   "source": [
    "sea_creatures = ['shark', 'cuttlefish', 'squid', 'mantisshrimp', 'anemone']\n",
    "\n",
    "print(sea_creatures)\n",
    "\n",
    "print(type(sea_creatures))\n",
    "\n",
    "print(len(sea_creatures))"
   ]
  },
  {
   "cell_type": "code",
   "execution_count": 5,
   "metadata": {
    "ExecuteTime": {
     "end_time": "2018-06-04T07:24:26.258255Z",
     "start_time": "2018-06-04T07:24:26.240525Z"
    }
   },
   "outputs": [
    {
     "name": "stdout",
     "output_type": "stream",
     "text": [
      "shark\n",
      "cuttlefish\n",
      "squid\n",
      "mantisshrimp\n",
      "anemone\n",
      "********************\n",
      "anemone\n",
      "mantisshrimp\n",
      "squid\n",
      "cuttlefish\n",
      "shark\n"
     ]
    },
    {
     "ename": "IndexError",
     "evalue": "list index out of range",
     "output_type": "error",
     "traceback": [
      "\u001b[1;31m------------------------------------------------------------------\u001b[0m",
      "\u001b[1;31mIndexError\u001b[0m                       Traceback (most recent call last)",
      "\u001b[1;32m<ipython-input-5-1e537367f113>\u001b[0m in \u001b[0;36m<module>\u001b[1;34m()\u001b[0m\n\u001b[0;32m     24\u001b[0m \u001b[0mprint\u001b[0m\u001b[1;33m(\u001b[0m\u001b[0msea_creatures\u001b[0m\u001b[1;33m[\u001b[0m\u001b[1;33m-\u001b[0m\u001b[1;36m5\u001b[0m\u001b[1;33m]\u001b[0m\u001b[1;33m)\u001b[0m\u001b[1;33m\u001b[0m\u001b[0m\n\u001b[0;32m     25\u001b[0m \u001b[1;33m\u001b[0m\u001b[0m\n\u001b[1;32m---> 26\u001b[1;33m \u001b[0mprint\u001b[0m\u001b[1;33m(\u001b[0m\u001b[0msea_creatures\u001b[0m\u001b[1;33m[\u001b[0m\u001b[1;33m-\u001b[0m\u001b[1;36m6\u001b[0m\u001b[1;33m]\u001b[0m\u001b[1;33m)\u001b[0m\u001b[1;33m\u001b[0m\u001b[0m\n\u001b[0m\u001b[0;32m     27\u001b[0m \u001b[1;33m\u001b[0m\u001b[0m\n\u001b[0;32m     28\u001b[0m \u001b[0mx\u001b[0m \u001b[1;33m=\u001b[0m \u001b[0minput\u001b[0m\u001b[1;33m(\u001b[0m\u001b[1;33m)\u001b[0m\u001b[1;33m\u001b[0m\u001b[0m\n",
      "\u001b[1;31mIndexError\u001b[0m: list index out of range"
     ]
    }
   ],
   "source": [
    "print(sea_creatures[0])\n",
    "\n",
    "print(sea_creatures[1])\n",
    "\n",
    "print(sea_creatures[2])\n",
    "\n",
    "print(sea_creatures[3])\n",
    "\n",
    "print(sea_creatures[4])\n",
    "\n",
    "# try print(sea_creatures[5]) it will throw out of range error\n",
    "\n",
    "print('*'*20)\n",
    "\n",
    "\n",
    "print(sea_creatures[-1])\n",
    "\n",
    "print(sea_creatures[-2])\n",
    "\n",
    "print(sea_creatures[-3])\n",
    "\n",
    "print(sea_creatures[-4])\n",
    "\n",
    "print(sea_creatures[-5])\n",
    "\n",
    "print(sea_creatures[-6])\n",
    "\n",
    "x = input()\n",
    "\n",
    "prin(x)\n",
    "\n",
    "# try print(sea_creatures[-6]) it will throw out of range error"
   ]
  },
  {
   "cell_type": "code",
   "execution_count": 4,
   "metadata": {
    "ExecuteTime": {
     "end_time": "2018-06-03T15:34:52.467729Z",
     "start_time": "2018-06-03T15:34:52.452102Z"
    }
   },
   "outputs": [
    {
     "name": "stdout",
     "output_type": "stream",
     "text": [
      "[10, 'Hi', 20.2, True]\n"
     ]
    },
    {
     "data": {
      "text/plain": [
       "\"\\nThis is a multi line comment demonstrated by using triple single-quote\\n\\nAbove mentioned list 'l' is a collection of heterogeneous data types.\\n\""
      ]
     },
     "execution_count": 4,
     "metadata": {},
     "output_type": "execute_result"
    }
   ],
   "source": [
    "l = []\n",
    "\n",
    "l.append(10)\n",
    "\n",
    "l.append('Hi')\n",
    "\n",
    "l.append(20.20)\n",
    "\n",
    "l.append(True)\n",
    "\n",
    "print(l)\n",
    "\n",
    "'''\n",
    "This is a multi line comment demonstrated by using triple single-quote\n",
    "\n",
    "Above mentioned list 'l' is a collection of heterogeneous data types.\n",
    "'''"
   ]
  },
  {
   "cell_type": "code",
   "execution_count": 5,
   "metadata": {
    "ExecuteTime": {
     "end_time": "2018-06-03T15:38:23.142813Z",
     "start_time": "2018-06-03T15:38:23.127188Z"
    }
   },
   "outputs": [
    {
     "name": "stdout",
     "output_type": "stream",
     "text": [
      "a\n",
      "5\n"
     ]
    }
   ],
   "source": [
    "\"\"\"\n",
    "This is a multi line comment demonstrated by using triple double-quote\n",
    "\n",
    "This is an example for nested lists.\n",
    "\"\"\"\n",
    "\n",
    "nest_list = ['Happy', [2, 0, 1, 5]]\n",
    "\n",
    "print(nest_list[0][1])\n",
    "\n",
    "print(nest_list[1][3])"
   ]
  },
  {
   "cell_type": "code",
   "execution_count": 6,
   "metadata": {
    "ExecuteTime": {
     "end_time": "2018-06-03T15:38:23.752288Z",
     "start_time": "2018-06-03T15:38:23.721376Z"
    },
    "scrolled": true
   },
   "outputs": [
    {
     "name": "stdout",
     "output_type": "stream",
     "text": [
      "['shark', 'cuttlefish', 'squid', 'mantisshrimp', 'anemone']\n",
      "['shark', 'octopus', 'squid', 'mantisshrimp', 'anemone']\n",
      "['shark', 'octopus', 'blobfish', 'mantisshrimp', 'anemone']\n"
     ]
    }
   ],
   "source": [
    "\"\"\"\n",
    "Because lists are mutable, below written code will\n",
    "overwrite existing list\n",
    "\"\"\"\n",
    "\n",
    "sea_creatures = ['shark', 'cuttlefish', 'squid', 'mantisshrimp', 'anemone']\n",
    "\n",
    "print(sea_creatures)\n",
    "\n",
    "sea_creatures[1] = 'octopus'\n",
    "\n",
    "print(sea_creatures)\n",
    "\n",
    "sea_creatures[-3] = 'blobfish'\n",
    "\n",
    "print(sea_creatures)"
   ]
  },
  {
   "cell_type": "code",
   "execution_count": 6,
   "metadata": {
    "ExecuteTime": {
     "end_time": "2018-06-04T07:34:58.952840Z",
     "start_time": "2018-06-04T07:34:58.947366Z"
    },
    "scrolled": false
   },
   "outputs": [
    {
     "name": "stdout",
     "output_type": "stream",
     "text": [
      "['p', 'o', 'r', 'm', 'z']\n"
     ]
    }
   ],
   "source": [
    "# Below we are demonstrating the list slicing operation.\n",
    "\n",
    "my_list = ['p', 'r', 'o', 'g', 'r', 'a', 'm', 'i', 'z']\n",
    "\n",
    "print(my_list[::2])\n",
    "\n",
    "# print(my_list[2:5])\n",
    "\n",
    "# print(my_list[:-5])\n",
    "\n",
    "# print(my_list[-5:])\n",
    "\n",
    "# print(my_list[5:])\n",
    "\n",
    "# print(my_list[:])\n",
    "\n",
    "# print(my_list[-4:-2])\n",
    "\n",
    "# print(my_list[-3:])"
   ]
  },
  {
   "cell_type": "code",
   "execution_count": 7,
   "metadata": {
    "ExecuteTime": {
     "end_time": "2018-06-03T15:38:26.627598Z",
     "start_time": "2018-06-03T15:38:26.611933Z"
    }
   },
   "outputs": [],
   "source": [
    "# append(element)\n",
    "\n",
    "# insert(index, element) This will insert 'element' at the given 'index'\n",
    "\n",
    "# list1.extend(list2) appends list2 at the end of list1\n",
    "\n",
    "# list.index(element) \n",
    "\n",
    "# list.index(element, index) find next element starting at 'index'\n",
    "\n",
    "# list.remove(element)\n",
    "\n",
    "# list.sort() here list should contain one kind of data type\n",
    "\n",
    "# list.reverse()\n",
    "\n",
    "# list.pop(index)\n",
    "\n",
    "# list.count(element)"
   ]
  },
  {
   "cell_type": "markdown",
   "metadata": {},
   "source": [
    "## Linear Algebra"
   ]
  },
  {
   "cell_type": "markdown",
   "metadata": {},
   "source": [
    "### Why to Learn Linear Algebra?"
   ]
  }
 ],
 "metadata": {
  "kernelspec": {
   "display_name": "Python 3",
   "language": "python",
   "name": "python3"
  },
  "language_info": {
   "codemirror_mode": {
    "name": "ipython",
    "version": 3
   },
   "file_extension": ".py",
   "mimetype": "text/x-python",
   "name": "python",
   "nbconvert_exporter": "python",
   "pygments_lexer": "ipython3",
   "version": "3.6.5"
  },
  "toc": {
   "nav_menu": {},
   "number_sections": true,
   "sideBar": true,
   "skip_h1_title": false,
   "title_cell": "Table of Contents",
   "title_sidebar": "Contents",
   "toc_cell": false,
   "toc_position": {},
   "toc_section_display": true,
   "toc_window_display": false
  },
  "varInspector": {
   "cols": {
    "lenName": 16,
    "lenType": 16,
    "lenVar": 40
   },
   "kernels_config": {
    "python": {
     "delete_cmd_postfix": "",
     "delete_cmd_prefix": "del ",
     "library": "var_list.py",
     "varRefreshCmd": "print(var_dic_list())"
    },
    "r": {
     "delete_cmd_postfix": ") ",
     "delete_cmd_prefix": "rm(",
     "library": "var_list.r",
     "varRefreshCmd": "cat(var_dic_list()) "
    }
   },
   "types_to_exclude": [
    "module",
    "function",
    "builtin_function_or_method",
    "instance",
    "_Feature"
   ],
   "window_display": false
  }
 },
 "nbformat": 4,
 "nbformat_minor": 2
}

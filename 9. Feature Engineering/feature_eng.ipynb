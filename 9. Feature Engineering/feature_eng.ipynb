{
 "cells": [
  {
   "cell_type": "markdown",
   "metadata": {},
   "source": [
    "# 1 Feature Engineering"
   ]
  },
  {
   "cell_type": "markdown",
   "metadata": {},
   "source": [
    "1. <b>Feature Extraction</b> - Transforming raw data into features suitable for modeling. Example- for text data, we use BOW or TF-IDF, for images we can use SIFT, CNN\n",
    "\n",
    "2. <b>Feature Transformation</b> - Transforming features to improve the accuracy of the algorithm. Example: Normalization, Standardization, handeling missing values, etc..\n",
    "\n",
    "3. <b>Feature Selection</b> - Removing unnecessary features"
   ]
  },
  {
   "cell_type": "markdown",
   "metadata": {},
   "source": [
    "## 1.1 Feature Extraction"
   ]
  },
  {
   "cell_type": "markdown",
   "metadata": {},
   "source": [
    "### Text Data"
   ]
  },
  {
   "cell_type": "markdown",
   "metadata": {},
   "source": [
    "Text Analysis is a major application field for machine learning algorithms. However the raw data, a sequence of symbols cannot be fed directly to the algorithms themselves as most of them expect numerical feature vectors with a fixed size rather than the raw text documents with variable length.\n",
    "    \n",
    "We call vectorization the general process of turning a collection of text documents into numerical feature vectors. This specific strategy (tokenization, counting and normalization) is called the Bag of Words or \"Bag of n-grams\" representation. Documents are described by word occurrences while completely ignoring the relative position information of the words in the document.\n",
    "\n",
    "We will use CountVectorizer to \"convert text into a matrix of token counts\"."
   ]
  },
  {
   "cell_type": "markdown",
   "metadata": {},
   "source": [
    "BAG OF WORDS:<br />\n",
    "https://machinelearningmastery.com/gentle-introduction-bag-words-model/\n",
    "\n",
    "TF-IDF:<br />\n",
    "https://www.commonlounge.com/discussion/99e86c9c15bb4d23a30b111b23e7b7b1\n",
    "\n",
    "CODE EXAMPLE:<br />\n",
    "https://machinelearningmastery.com/prepare-text-data-machine-learning-scikit-learn/"
   ]
  },
  {
   "cell_type": "code",
   "execution_count": 21,
   "metadata": {
    "ExecuteTime": {
     "end_time": "2018-07-31T12:35:29.075163Z",
     "start_time": "2018-07-31T12:35:29.069179Z"
    }
   },
   "outputs": [],
   "source": [
    "# Bag of Words\n",
    "\n",
    "from sklearn.feature_extraction.text import CountVectorizer\n",
    "\n",
    "# Lets create 'lst_text' that will contain four doucuments\n",
    "lst_text=['it was the best of times','it was the worst of times',\\\n",
    "          'it was the age of wisdom','it was the age of foolishness']\n",
    "\n",
    "# Initialize the \"CountVectorizer\" object, which is scikit-learn's\n",
    "# bag of words tool.\n",
    "vocab = CountVectorizer()\n",
    "\n",
    "# fit_transform() does two functions: First, it fits the model\n",
    "# and learns the vocabulary; second, it transforms our training data\n",
    "# into feature vectors. The input to fit_transform should be a list of \n",
    "# strings.\n",
    "dtm = vocab.fit_transform(lst_text)\n",
    "\n",
    "# fit_transform() could be done seperatly as mentioned below\n",
    "# vocab.fit(lst_text)\n",
    "# dtm = vocab.transform(lst_text)"
   ]
  },
  {
   "cell_type": "code",
   "execution_count": 10,
   "metadata": {
    "ExecuteTime": {
     "end_time": "2018-07-31T12:20:33.519933Z",
     "start_time": "2018-07-31T12:20:33.514948Z"
    },
    "scrolled": false
   },
   "outputs": [
    {
     "data": {
      "text/plain": [
       "{'it': 3,\n",
       " 'was': 7,\n",
       " 'the': 5,\n",
       " 'best': 1,\n",
       " 'of': 4,\n",
       " 'times': 6,\n",
       " 'worst': 9,\n",
       " 'age': 0,\n",
       " 'wisdom': 8,\n",
       " 'foolishness': 2}"
      ]
     },
     "execution_count": 10,
     "metadata": {},
     "output_type": "execute_result"
    }
   ],
   "source": [
    "# We can look at unoque words by using 'vocabulary_'\n",
    "\n",
    "vocab.vocabulary_"
   ]
  },
  {
   "cell_type": "code",
   "execution_count": 11,
   "metadata": {
    "ExecuteTime": {
     "end_time": "2018-07-31T12:21:02.488419Z",
     "start_time": "2018-07-31T12:21:02.483429Z"
    }
   },
   "outputs": [
    {
     "name": "stdout",
     "output_type": "stream",
     "text": [
      "<class 'scipy.sparse.csr.csr_matrix'>\n"
     ]
    }
   ],
   "source": [
    "# Observe that the type of dtm is sparse\n",
    "\n",
    "print(type(dtm))"
   ]
  },
  {
   "cell_type": "code",
   "execution_count": 14,
   "metadata": {
    "ExecuteTime": {
     "end_time": "2018-07-31T12:23:12.213536Z",
     "start_time": "2018-07-31T12:23:12.209550Z"
    }
   },
   "outputs": [
    {
     "name": "stdout",
     "output_type": "stream",
     "text": [
      "(4, 10)\n"
     ]
    }
   ],
   "source": [
    "# Lets now print the  shape of this dtm\n",
    "\n",
    "print(dtm.shape)\n",
    "\n",
    "# o/p -> (4, 10)\n",
    "# i.e -> 4 documents and 10 unique words"
   ]
  },
  {
   "cell_type": "code",
   "execution_count": 15,
   "metadata": {
    "ExecuteTime": {
     "end_time": "2018-07-31T12:32:35.216653Z",
     "start_time": "2018-07-31T12:32:35.211668Z"
    },
    "scrolled": false
   },
   "outputs": [
    {
     "name": "stdout",
     "output_type": "stream",
     "text": [
      "  (0, 6)\t1\n",
      "  (0, 4)\t1\n",
      "  (0, 1)\t1\n",
      "  (0, 5)\t1\n",
      "  (0, 7)\t1\n",
      "  (0, 3)\t1\n",
      "  (1, 9)\t1\n",
      "  (1, 6)\t1\n",
      "  (1, 4)\t1\n",
      "  (1, 5)\t1\n",
      "  (1, 7)\t1\n",
      "  (1, 3)\t1\n",
      "  (2, 8)\t1\n",
      "  (2, 0)\t1\n",
      "  (2, 4)\t1\n",
      "  (2, 5)\t1\n",
      "  (2, 7)\t1\n",
      "  (2, 3)\t1\n",
      "  (3, 2)\t1\n",
      "  (3, 0)\t1\n",
      "  (3, 4)\t1\n",
      "  (3, 5)\t1\n",
      "  (3, 7)\t1\n",
      "  (3, 3)\t1\n"
     ]
    }
   ],
   "source": [
    "# Lets look at the dtm\n",
    "\n",
    "print(dtm)\n",
    "\n",
    "# Remember that dtm is a sparse matrix. i.e. zeros wont be stored\n",
    "# Lets understand First line of output -> (0,6)    1\n",
    "# Here (0, 6) means 0th document and 6th(index starting from 1) unique word. \n",
    "# (we have total 4 documents) & (we have total 10 unique words)\n",
    "# (0, 6)    1 -> 1 here refers to the number of occurence of 6th word\n",
    "# Now lets read it all in english.\n",
    "# (0, 6)    1 -> 'times' occurs 1 time in 0th document. \n",
    "# Try to observe -> (3, 3)   1"
   ]
  },
  {
   "cell_type": "code",
   "execution_count": 16,
   "metadata": {
    "ExecuteTime": {
     "end_time": "2018-07-31T12:33:31.215506Z",
     "start_time": "2018-07-31T12:33:31.210521Z"
    },
    "scrolled": true
   },
   "outputs": [
    {
     "name": "stdout",
     "output_type": "stream",
     "text": [
      "[[0 1 0 1 1 1 1 1 0 0]\n",
      " [0 0 0 1 1 1 1 1 0 1]\n",
      " [1 0 0 1 1 1 0 1 1 0]\n",
      " [1 0 1 1 1 1 0 1 0 0]]\n"
     ]
    }
   ],
   "source": [
    "# Since the dtm is sparse, lets convert it into numpy array.\n",
    "\n",
    "print(dtm.toarray())"
   ]
  },
  {
   "cell_type": "code",
   "execution_count": 17,
   "metadata": {
    "ExecuteTime": {
     "end_time": "2018-07-31T12:33:59.876250Z",
     "start_time": "2018-07-31T12:33:59.871266Z"
    }
   },
   "outputs": [],
   "source": [
    "# 2-grams\n",
    "\n",
    "vocab = CountVectorizer(ngram_range=[1,2])\n",
    "\n",
    "dtm = vocab.fit_transform(lst_text)"
   ]
  },
  {
   "cell_type": "code",
   "execution_count": 18,
   "metadata": {
    "ExecuteTime": {
     "end_time": "2018-07-31T12:34:00.703140Z",
     "start_time": "2018-07-31T12:34:00.698184Z"
    }
   },
   "outputs": [
    {
     "name": "stdout",
     "output_type": "stream",
     "text": [
      "{'it': 5, 'was': 16, 'the': 11, 'best': 2, 'of': 7, 'times': 15, 'it was': 6, 'was the': 17, 'the best': 13, 'best of': 3, 'of times': 9, 'worst': 19, 'the worst': 14, 'worst of': 20, 'age': 0, 'wisdom': 18, 'the age': 12, 'age of': 1, 'of wisdom': 10, 'foolishness': 4, 'of foolishness': 8}\n"
     ]
    }
   ],
   "source": [
    "print(vocab.vocabulary_)"
   ]
  },
  {
   "cell_type": "code",
   "execution_count": 20,
   "metadata": {
    "ExecuteTime": {
     "end_time": "2018-07-31T12:34:09.761408Z",
     "start_time": "2018-07-31T12:34:09.756424Z"
    }
   },
   "outputs": [
    {
     "name": "stdout",
     "output_type": "stream",
     "text": [
      "[[0 0 1 1 0 1 1 1 0 1 0 1 0 1 0 1 1 1 0 0 0]\n",
      " [0 0 0 0 0 1 1 1 0 1 0 1 0 0 1 1 1 1 0 1 1]\n",
      " [1 1 0 0 0 1 1 1 0 0 1 1 1 0 0 0 1 1 1 0 0]\n",
      " [1 1 0 0 1 1 1 1 1 0 0 1 1 0 0 0 1 1 0 0 0]]\n"
     ]
    }
   ],
   "source": [
    "print(dtm.toarray()) \n",
    "\n",
    "# convert sparse matrix to nparray"
   ]
  },
  {
   "cell_type": "markdown",
   "metadata": {},
   "source": [
    "<b>Observations:</b>\n",
    "<ul>\n",
    "    <li> <code>vect.fit(lst_text)</code> <b>learns the vocabulary</b>\n",
    "    <li> <code>vect.transform(lst_text)</code> <b>uses the fitted vocabulary</b> to build a <b>document-term matrix</b>\n",
    "</ul>"
   ]
  },
  {
   "cell_type": "code",
   "execution_count": 22,
   "metadata": {
    "ExecuteTime": {
     "end_time": "2018-07-31T12:35:56.601789Z",
     "start_time": "2018-07-31T12:35:56.382503Z"
    }
   },
   "outputs": [],
   "source": [
    "# TF-IDF\n",
    "\n",
    "from sklearn.feature_extraction.text import TfidfVectorizer\n",
    "\n",
    "# list of text documents\n",
    "lst_text=['It was the best of times','it was the worst of times',\\\n",
    "          'it was the age of wisdom','it was the age of foolishness']\n",
    "\n",
    "vectorizer = TfidfVectorizer()\n",
    "\n",
    "dtm = vectorizer.fit_transform(lst_text)"
   ]
  },
  {
   "cell_type": "code",
   "execution_count": 23,
   "metadata": {
    "ExecuteTime": {
     "end_time": "2018-07-31T12:35:58.004920Z",
     "start_time": "2018-07-31T12:35:58.000934Z"
    }
   },
   "outputs": [
    {
     "name": "stdout",
     "output_type": "stream",
     "text": [
      "{'it': 3, 'was': 7, 'the': 5, 'best': 1, 'of': 4, 'times': 6, 'worst': 9, 'age': 0, 'wisdom': 8, 'foolishness': 2}\n"
     ]
    }
   ],
   "source": [
    "print(vectorizer.vocabulary_)"
   ]
  },
  {
   "cell_type": "code",
   "execution_count": 25,
   "metadata": {
    "ExecuteTime": {
     "end_time": "2018-07-31T12:36:13.186395Z",
     "start_time": "2018-07-31T12:36:13.180410Z"
    }
   },
   "outputs": [
    {
     "name": "stdout",
     "output_type": "stream",
     "text": [
      "[[0.         0.60735961 0.         0.31694544 0.31694544 0.31694544\n",
      "  0.4788493  0.31694544 0.         0.        ]\n",
      " [0.         0.         0.         0.31694544 0.31694544 0.31694544\n",
      "  0.4788493  0.31694544 0.         0.60735961]\n",
      " [0.4788493  0.         0.         0.31694544 0.31694544 0.31694544\n",
      "  0.         0.31694544 0.60735961 0.        ]\n",
      " [0.4788493  0.         0.60735961 0.31694544 0.31694544 0.31694544\n",
      "  0.         0.31694544 0.         0.        ]]\n"
     ]
    }
   ],
   "source": [
    "print(dtm.toarray()) \n",
    "\n",
    "# convert sparse matrix to nparray"
   ]
  },
  {
   "cell_type": "markdown",
   "metadata": {},
   "source": [
    "## 1.2 Feature Transformation"
   ]
  },
  {
   "cell_type": "markdown",
   "metadata": {},
   "source": [
    "1. <b>Handling Missing values and Outliers</b>\n",
    "\n",
    "2. <b>Normalization</b> (also known as Min-Max Scaling)\n",
    "\n",
    "3. <b>Standardization</b> (Standard Scaling OR Z-score normalization)\n",
    "\n",
    "<b>NOTE: </b>Transformation of the data from different scale to a common scale is referred as **\"Data Normalization\" or \"Data Standardization\"**. There are some drawbacks of using 'Normalization' as it consider the data to range between 0 and 1."
   ]
  },
  {
   "cell_type": "markdown",
   "metadata": {},
   "source": [
    "### 1.2.1 Handling Missing Values & Outliers"
   ]
  },
  {
   "cell_type": "markdown",
   "metadata": {},
   "source": [
    "MISSING VALUES:<br />\n",
    "<code>sklearn.preprocessing.Imputer()</code><br />\n",
    "http://scikit-learn.org/stable/modules/generated/sklearn.preprocessing.Imputer.html<br />\n",
    "\n",
    "HANDLING OUTLIERS:<br />\n",
    "https://www.analyticsvidhya.com/blog/2016/01/guide-data-exploration/"
   ]
  },
  {
   "cell_type": "markdown",
   "metadata": {},
   "source": [
    "### 1.2.2 Normalization"
   ]
  },
  {
   "cell_type": "code",
   "execution_count": 30,
   "metadata": {
    "ExecuteTime": {
     "end_time": "2018-07-31T12:55:31.166981Z",
     "start_time": "2018-07-31T12:55:31.161996Z"
    }
   },
   "outputs": [
    {
     "name": "stdout",
     "output_type": "stream",
     "text": [
      "[[1 2 3]\n",
      " [4 5 6]]\n"
     ]
    }
   ],
   "source": [
    "# Lets have a look on how reshape function works\n",
    "\n",
    "# importing numpy\n",
    "import numpy as np\n",
    "\n",
    "# creating a numpy array\n",
    "a = np.array([[1,2,3],[4,5,6]])\n",
    "\n",
    "print(a)\n",
    "\n",
    "# We have an array of shape (2, 3) i.e. 2 rows and 3 columns."
   ]
  },
  {
   "cell_type": "code",
   "execution_count": 27,
   "metadata": {
    "ExecuteTime": {
     "end_time": "2018-07-31T12:53:19.493333Z",
     "start_time": "2018-07-31T12:53:19.489344Z"
    }
   },
   "outputs": [
    {
     "name": "stdout",
     "output_type": "stream",
     "text": [
      "[1 2 3 4 5 6]\n"
     ]
    }
   ],
   "source": [
    "# Lets reshape it to (1, 6)\n",
    "\n",
    "print(a.reshape(6))"
   ]
  },
  {
   "cell_type": "code",
   "execution_count": 28,
   "metadata": {
    "ExecuteTime": {
     "end_time": "2018-07-31T12:53:21.873402Z",
     "start_time": "2018-07-31T12:53:21.869415Z"
    },
    "scrolled": true
   },
   "outputs": [
    {
     "name": "stdout",
     "output_type": "stream",
     "text": [
      "[[1 2]\n",
      " [3 4]\n",
      " [5 6]]\n"
     ]
    }
   ],
   "source": [
    "# Now reshaping it to (3, 2)\n",
    "\n",
    "print(a.reshape(3,-1))"
   ]
  },
  {
   "cell_type": "code",
   "execution_count": 32,
   "metadata": {
    "ExecuteTime": {
     "end_time": "2018-07-31T12:59:25.603366Z",
     "start_time": "2018-07-31T12:59:25.597384Z"
    }
   },
   "outputs": [
    {
     "name": "stdout",
     "output_type": "stream",
     "text": [
      "[[  1.]\n",
      " [  1.]\n",
      " [  0.]\n",
      " [ -1.]\n",
      " [  2.]\n",
      " [  1.]\n",
      " [  3.]\n",
      " [ -2.]\n",
      " [  4.]\n",
      " [100.]]\n"
     ]
    }
   ],
   "source": [
    "# NORMALIZATION\n",
    "\n",
    "import numpy as np\n",
    "\n",
    "# Here we built a nparray with float data type, which is a column array.\n",
    "data = np.array([1,1,0,-1,2,1,3,-2,4,100], dtype='f').reshape(-1,1)\n",
    "\n",
    "# Lets now have a look at the data\n",
    "print(data)"
   ]
  },
  {
   "cell_type": "code",
   "execution_count": 33,
   "metadata": {
    "ExecuteTime": {
     "end_time": "2018-07-31T12:59:53.179901Z",
     "start_time": "2018-07-31T12:59:53.172921Z"
    },
    "scrolled": true
   },
   "outputs": [
    {
     "data": {
      "text/plain": [
       "array([[0.02941177],\n",
       "       [0.02941177],\n",
       "       [0.01960784],\n",
       "       [0.00980392],\n",
       "       [0.03921569],\n",
       "       [0.02941177],\n",
       "       [0.04901961],\n",
       "       [0.        ],\n",
       "       [0.05882353],\n",
       "       [1.0000001 ]], dtype=float32)"
      ]
     },
     "execution_count": 33,
     "metadata": {},
     "output_type": "execute_result"
    }
   ],
   "source": [
    "# for performing Normalization we have to import MinMaxScaler\n",
    "\n",
    "from sklearn.preprocessing import MinMaxScaler\n",
    "\n",
    "MinMaxScaler().fit_transform(data)"
   ]
  },
  {
   "cell_type": "code",
   "execution_count": 50,
   "metadata": {
    "ExecuteTime": {
     "end_time": "2018-06-24T14:52:44.451439Z",
     "start_time": "2018-06-24T14:52:44.435816Z"
    },
    "scrolled": true
   },
   "outputs": [
    {
     "data": {
      "text/plain": [
       "array([[0.02941176],\n",
       "       [0.02941176],\n",
       "       [0.01960784],\n",
       "       [0.00980392],\n",
       "       [0.03921569],\n",
       "       [0.02941176],\n",
       "       [0.04901961],\n",
       "       [0.        ],\n",
       "       [0.05882353],\n",
       "       [1.        ]], dtype=float32)"
      ]
     },
     "execution_count": 50,
     "metadata": {},
     "output_type": "execute_result"
    }
   ],
   "source": [
    "# Lets now try to put normalization formula on the array and observe the results\n",
    "\n",
    "(data-data.min())/(data.max() - data.min())"
   ]
  },
  {
   "cell_type": "markdown",
   "metadata": {},
   "source": [
    "### 1.2.3 Standardization"
   ]
  },
  {
   "cell_type": "code",
   "execution_count": 51,
   "metadata": {
    "ExecuteTime": {
     "end_time": "2018-06-24T14:52:45.376155Z",
     "start_time": "2018-06-24T14:52:45.360528Z"
    }
   },
   "outputs": [
    {
     "data": {
      "text/plain": [
       "array([[-0.3328055 ],\n",
       "       [-0.3328055 ],\n",
       "       [-0.36642224],\n",
       "       [-0.40003896],\n",
       "       [-0.2991888 ],\n",
       "       [-0.3328055 ],\n",
       "       [-0.26557207],\n",
       "       [-0.43365568],\n",
       "       [-0.23195536],\n",
       "       [ 2.9952497 ]], dtype=float32)"
      ]
     },
     "execution_count": 51,
     "metadata": {},
     "output_type": "execute_result"
    }
   ],
   "source": [
    "# Standard Scaling\n",
    "\n",
    "from sklearn.preprocessing import StandardScaler\n",
    "\n",
    "StandardScaler().fit_transform(data)"
   ]
  },
  {
   "cell_type": "code",
   "execution_count": 13,
   "metadata": {
    "ExecuteTime": {
     "end_time": "2018-06-24T13:28:02.379569Z",
     "start_time": "2018-06-24T13:28:02.369575Z"
    }
   },
   "outputs": [
    {
     "data": {
      "text/plain": [
       "array([[-0.3328055 ],\n",
       "       [-0.3328055 ],\n",
       "       [-0.36642224],\n",
       "       [-0.40003896],\n",
       "       [-0.2991888 ],\n",
       "       [-0.3328055 ],\n",
       "       [-0.26557207],\n",
       "       [-0.43365568],\n",
       "       [-0.23195536],\n",
       "       [ 2.9952497 ]], dtype=float32)"
      ]
     },
     "execution_count": 13,
     "metadata": {},
     "output_type": "execute_result"
    }
   ],
   "source": [
    "# Lets now try to put standardization formula on the array and observe the results\n",
    "\n",
    "(data-data.mean())/data.std()"
   ]
  },
  {
   "cell_type": "markdown",
   "metadata": {},
   "source": [
    "## 1.3 Feature Selection"
   ]
  },
  {
   "cell_type": "markdown",
   "metadata": {},
   "source": [
    "It is reasonable to say that features with low variance are worse than those with high variance. So, one can consider cutting features with variance below a certain threshold."
   ]
  },
  {
   "cell_type": "code",
   "execution_count": 35,
   "metadata": {
    "ExecuteTime": {
     "end_time": "2018-07-31T13:46:34.774215Z",
     "start_time": "2018-07-31T13:46:31.197472Z"
    }
   },
   "outputs": [
    {
     "data": {
      "text/plain": [
       "(100, 20)"
      ]
     },
     "execution_count": 35,
     "metadata": {},
     "output_type": "execute_result"
    }
   ],
   "source": [
    "from sklearn.feature_selection import VarianceThreshold\n",
    "\n",
    "from sklearn.datasets import make_classification\n",
    "\n",
    "# generate a ndarray of size (100, 20)\n",
    "x_data_generated, y_data_generated = make_classification()\n",
    "\n",
    "x_data_generated.shape\n",
    "# (100, 20) -> Like 100 data points with 20 features."
   ]
  },
  {
   "cell_type": "code",
   "execution_count": 36,
   "metadata": {
    "ExecuteTime": {
     "end_time": "2018-07-31T13:46:34.801112Z",
     "start_time": "2018-07-31T13:46:34.789144Z"
    }
   },
   "outputs": [
    {
     "data": {
      "text/plain": [
       "numpy.ndarray"
      ]
     },
     "execution_count": 36,
     "metadata": {},
     "output_type": "execute_result"
    }
   ],
   "source": [
    "type(x_data_generated)"
   ]
  },
  {
   "cell_type": "code",
   "execution_count": 37,
   "metadata": {
    "ExecuteTime": {
     "end_time": "2018-07-31T13:46:34.896707Z",
     "start_time": "2018-07-31T13:46:34.813079Z"
    }
   },
   "outputs": [
    {
     "data": {
      "text/plain": [
       "(100, 19)"
      ]
     },
     "execution_count": 37,
     "metadata": {},
     "output_type": "execute_result"
    }
   ],
   "source": [
    "VarianceThreshold(0.7).fit_transform(x_data_generated).shape\n",
    "\n",
    "# There is 1 feature with variance lower than 0.7"
   ]
  },
  {
   "cell_type": "code",
   "execution_count": 38,
   "metadata": {
    "ExecuteTime": {
     "end_time": "2018-07-31T13:46:55.680962Z",
     "start_time": "2018-07-31T13:46:55.674980Z"
    }
   },
   "outputs": [
    {
     "data": {
      "text/plain": [
       "(100, 17)"
      ]
     },
     "execution_count": 38,
     "metadata": {},
     "output_type": "execute_result"
    }
   ],
   "source": [
    "VarianceThreshold(0.8).fit_transform(x_data_generated).shape\n",
    "\n",
    "# There are 3 feature with variance lower than 0.8"
   ]
  },
  {
   "cell_type": "code",
   "execution_count": 39,
   "metadata": {
    "ExecuteTime": {
     "end_time": "2018-07-31T13:47:17.510920Z",
     "start_time": "2018-07-31T13:47:17.503936Z"
    },
    "scrolled": true
   },
   "outputs": [
    {
     "data": {
      "text/plain": [
       "(100, 16)"
      ]
     },
     "execution_count": 39,
     "metadata": {},
     "output_type": "execute_result"
    }
   ],
   "source": [
    "VarianceThreshold(0.9).fit_transform(x_data_generated).shape\n",
    "\n",
    "# There are 4 feature with variance lower than 0.9"
   ]
  },
  {
   "cell_type": "markdown",
   "metadata": {
    "ExecuteTime": {
     "end_time": "2018-07-31T12:05:12.797816Z",
     "start_time": "2018-07-31T12:05:12.687024Z"
    }
   },
   "source": [
    "![title](image/1.png)"
   ]
  },
  {
   "cell_type": "code",
   "execution_count": 42,
   "metadata": {
    "ExecuteTime": {
     "end_time": "2018-07-31T13:49:07.933669Z",
     "start_time": "2018-07-31T13:49:07.924693Z"
    }
   },
   "outputs": [
    {
     "name": "stdout",
     "output_type": "stream",
     "text": [
      "<class 'sklearn.utils.Bunch'>\n"
     ]
    }
   ],
   "source": [
    "# https://chrisalbon.com/machine_learning/feature_selection/variance_thresholding_for_feature_selection/\n",
    "\n",
    "from sklearn import datasets\n",
    "from sklearn.feature_selection import VarianceThreshold\n",
    "\n",
    "# Load iris data\n",
    "iris = datasets.load_iris()\n",
    "\n",
    "print(type(iris))"
   ]
  },
  {
   "cell_type": "code",
   "execution_count": 47,
   "metadata": {
    "ExecuteTime": {
     "end_time": "2018-07-31T13:53:22.118011Z",
     "start_time": "2018-07-31T13:53:22.110771Z"
    }
   },
   "outputs": [
    {
     "name": "stdout",
     "output_type": "stream",
     "text": [
      "Shape:  (150, 4)\n",
      "Head:\n",
      "[[5.1 3.5 1.4 0.2]\n",
      " [4.9 3.  1.4 0.2]\n",
      " [4.7 3.2 1.3 0.2]\n",
      " [4.6 3.1 1.5 0.2]\n",
      " [5.  3.6 1.4 0.2]]\n",
      "Std Deviation:  [0.82530129 0.43214658 1.75852918 0.76061262]\n"
     ]
    }
   ],
   "source": [
    "# Create features and target\n",
    "X = iris.data\n",
    "y = iris.target\n",
    "\n",
    "print('Shape: ', X.shape) # We have 150 data points and 4 features\n",
    "print('Head:')\n",
    "print(X[0:5]) # Lets look at first 5 data points (nparray slicing concept)\n",
    "print('Std Deviation: ', X.std(axis=0)) # Std Deviation of each feature"
   ]
  },
  {
   "cell_type": "markdown",
   "metadata": {},
   "source": [
    "Note that,\n",
    "\\begin{align}\n",
    "Std Deviation & = \\sqrt{Variance}\n",
    "\\end{align}"
   ]
  },
  {
   "cell_type": "code",
   "execution_count": 48,
   "metadata": {
    "ExecuteTime": {
     "end_time": "2018-07-31T13:54:03.433190Z",
     "start_time": "2018-07-31T13:54:03.427207Z"
    }
   },
   "outputs": [],
   "source": [
    "# Create VarianceThreshold object with a variance with a threshold of 0.5\n",
    "thresholder = VarianceThreshold(threshold=.5)\n",
    "\n",
    "# Conduct variance thresholding\n",
    "X_high_variance = thresholder.fit_transform(X)"
   ]
  },
  {
   "cell_type": "code",
   "execution_count": 51,
   "metadata": {
    "ExecuteTime": {
     "end_time": "2018-07-31T14:01:04.440182Z",
     "start_time": "2018-07-31T14:01:04.435182Z"
    }
   },
   "outputs": [
    {
     "name": "stdout",
     "output_type": "stream",
     "text": [
      "(150, 3)\n"
     ]
    }
   ],
   "source": [
    "print(X_high_variance.shape)\n",
    "\n",
    "# Observe that the row with variance lower than 0.5 is removed"
   ]
  },
  {
   "cell_type": "code",
   "execution_count": 50,
   "metadata": {
    "ExecuteTime": {
     "end_time": "2018-07-31T13:54:17.571152Z",
     "start_time": "2018-07-31T13:54:17.566135Z"
    }
   },
   "outputs": [
    {
     "name": "stdout",
     "output_type": "stream",
     "text": [
      "[[5.1 1.4 0.2]\n",
      " [4.9 1.4 0.2]\n",
      " [4.7 1.3 0.2]\n",
      " [4.6 1.5 0.2]\n",
      " [5.  1.4 0.2]]\n"
     ]
    }
   ],
   "source": [
    "# View first five rows with features with variances above threshold\n",
    "print(X_high_variance[0:5])"
   ]
  },
  {
   "cell_type": "markdown",
   "metadata": {},
   "source": [
    "<b>Observations: </b>(Very Important)\n",
    "1. If variables represent different physical quantities their scaling can be different. By changing units (e.g. from measuring distance in kilometers to measuring distance in nanometers) you can change the scaling of a variable arbitrarily.\n",
    "\n",
    "2. If the variance is zero, it means that the feature is constant and will not improve the performance of the model. In that case, it should be removed. Or if only a handful of observations differ from a constant value, the variance will also be very low.\n",
    "\n",
    "3. If there is high correlation between 2 features then you would discard one of them. \n",
    "\n",
    "4. The features that are removed because of low variance have very low variance, that would be near to zero. You should always perform all the tests with existing data before discarding any features. "
   ]
  },
  {
   "cell_type": "markdown",
   "metadata": {},
   "source": [
    "## 1.4 Pearson Correlation"
   ]
  },
  {
   "cell_type": "markdown",
   "metadata": {},
   "source": [
    "<code>from scipy.stats import pearsonr</code>"
   ]
  },
  {
   "cell_type": "code",
   "execution_count": 52,
   "metadata": {
    "ExecuteTime": {
     "end_time": "2018-07-31T14:17:05.886214Z",
     "start_time": "2018-07-31T14:16:52.209364Z"
    }
   },
   "outputs": [],
   "source": [
    "import numpy as np\n",
    "import pandas as pd\n",
    "import matplotlib.pyplot as plt\n",
    "import seaborn as sns\n",
    "from scipy.stats import pearsonr"
   ]
  },
  {
   "cell_type": "code",
   "execution_count": 53,
   "metadata": {
    "ExecuteTime": {
     "end_time": "2018-07-31T14:17:06.056910Z",
     "start_time": "2018-07-31T14:17:05.919397Z"
    }
   },
   "outputs": [
    {
     "data": {
      "text/html": [
       "<div>\n",
       "<style scoped>\n",
       "    .dataframe tbody tr th:only-of-type {\n",
       "        vertical-align: middle;\n",
       "    }\n",
       "\n",
       "    .dataframe tbody tr th {\n",
       "        vertical-align: top;\n",
       "    }\n",
       "\n",
       "    .dataframe thead th {\n",
       "        text-align: right;\n",
       "    }\n",
       "</style>\n",
       "<table border=\"1\" class=\"dataframe\">\n",
       "  <thead>\n",
       "    <tr style=\"text-align: right;\">\n",
       "      <th></th>\n",
       "      <th>total_bill</th>\n",
       "      <th>tip</th>\n",
       "      <th>sex</th>\n",
       "      <th>smoker</th>\n",
       "      <th>day</th>\n",
       "      <th>time</th>\n",
       "      <th>size</th>\n",
       "    </tr>\n",
       "  </thead>\n",
       "  <tbody>\n",
       "    <tr>\n",
       "      <th>0</th>\n",
       "      <td>16.99</td>\n",
       "      <td>1.01</td>\n",
       "      <td>Female</td>\n",
       "      <td>No</td>\n",
       "      <td>Sun</td>\n",
       "      <td>Dinner</td>\n",
       "      <td>2</td>\n",
       "    </tr>\n",
       "    <tr>\n",
       "      <th>1</th>\n",
       "      <td>10.34</td>\n",
       "      <td>1.66</td>\n",
       "      <td>Male</td>\n",
       "      <td>No</td>\n",
       "      <td>Sun</td>\n",
       "      <td>Dinner</td>\n",
       "      <td>3</td>\n",
       "    </tr>\n",
       "    <tr>\n",
       "      <th>2</th>\n",
       "      <td>21.01</td>\n",
       "      <td>3.50</td>\n",
       "      <td>Male</td>\n",
       "      <td>No</td>\n",
       "      <td>Sun</td>\n",
       "      <td>Dinner</td>\n",
       "      <td>3</td>\n",
       "    </tr>\n",
       "    <tr>\n",
       "      <th>3</th>\n",
       "      <td>23.68</td>\n",
       "      <td>3.31</td>\n",
       "      <td>Male</td>\n",
       "      <td>No</td>\n",
       "      <td>Sun</td>\n",
       "      <td>Dinner</td>\n",
       "      <td>2</td>\n",
       "    </tr>\n",
       "    <tr>\n",
       "      <th>4</th>\n",
       "      <td>24.59</td>\n",
       "      <td>3.61</td>\n",
       "      <td>Female</td>\n",
       "      <td>No</td>\n",
       "      <td>Sun</td>\n",
       "      <td>Dinner</td>\n",
       "      <td>4</td>\n",
       "    </tr>\n",
       "  </tbody>\n",
       "</table>\n",
       "</div>"
      ],
      "text/plain": [
       "   total_bill   tip     sex smoker  day    time  size\n",
       "0       16.99  1.01  Female     No  Sun  Dinner     2\n",
       "1       10.34  1.66    Male     No  Sun  Dinner     3\n",
       "2       21.01  3.50    Male     No  Sun  Dinner     3\n",
       "3       23.68  3.31    Male     No  Sun  Dinner     2\n",
       "4       24.59  3.61  Female     No  Sun  Dinner     4"
      ]
     },
     "execution_count": 53,
     "metadata": {},
     "output_type": "execute_result"
    }
   ],
   "source": [
    "tips = sns.load_dataset('tips')\n",
    "tips.head()"
   ]
  },
  {
   "cell_type": "code",
   "execution_count": 54,
   "metadata": {
    "ExecuteTime": {
     "end_time": "2018-07-31T14:17:06.117258Z",
     "start_time": "2018-07-31T14:17:06.111913Z"
    }
   },
   "outputs": [
    {
     "data": {
      "text/plain": [
       "Index(['total_bill', 'tip', 'sex', 'smoker', 'day', 'time', 'size'], dtype='object')"
      ]
     },
     "execution_count": 54,
     "metadata": {},
     "output_type": "execute_result"
    }
   ],
   "source": [
    "tips.columns"
   ]
  },
  {
   "cell_type": "code",
   "execution_count": 55,
   "metadata": {
    "ExecuteTime": {
     "end_time": "2018-07-31T14:18:06.627097Z",
     "start_time": "2018-07-31T14:18:06.121351Z"
    }
   },
   "outputs": [
    {
     "data": {
      "image/png": "[encoded data removed]",
      "text/plain": [
       "<Figure size 432x288 with 1 Axes>"
      ]
     },
     "metadata": {},
     "output_type": "display_data"
    }
   ],
   "source": [
    "tips.plot(kind='scatter', x='total_bill', y='tip') ;\n",
    "plt.show()"
   ]
  },
  {
   "cell_type": "code",
   "execution_count": 56,
   "metadata": {
    "ExecuteTime": {
     "end_time": "2018-07-31T14:18:17.022301Z",
     "start_time": "2018-07-31T14:18:16.384475Z"
    }
   },
   "outputs": [
    {
     "name": "stderr",
     "output_type": "stream",
     "text": [
      "c:\\users\\kanav\\appdata\\local\\programs\\python\\python36-32\\lib\\site-packages\\matplotlib\\axes\\_axes.py:6462: UserWarning: The 'normed' kwarg is deprecated, and has been replaced by the 'density' kwarg.\n",
      "  warnings.warn(\"The 'normed' kwarg is deprecated, and has been \"\n",
      "c:\\users\\kanav\\appdata\\local\\programs\\python\\python36-32\\lib\\site-packages\\matplotlib\\axes\\_axes.py:6462: UserWarning: The 'normed' kwarg is deprecated, and has been replaced by the 'density' kwarg.\n",
      "  warnings.warn(\"The 'normed' kwarg is deprecated, and has been \"\n"
     ]
    },
    {
     "data": {
      "text/plain": [
       "<seaborn.axisgrid.JointGrid at 0xda92210>"
      ]
     },
     "execution_count": 56,
     "metadata": {},
     "output_type": "execute_result"
    },
    {
     "data": {
      "image/png": "[encoded data removed]",
      "text/plain": [
       "<Figure size 432x432 with 3 Axes>"
      ]
     },
     "metadata": {},
     "output_type": "display_data"
    }
   ],
   "source": [
    "sns.jointplot(x='total_bill', y='tip', data=tips, kind='reg')"
   ]
  },
  {
   "cell_type": "code",
   "execution_count": 7,
   "metadata": {
    "ExecuteTime": {
     "end_time": "2018-06-24T13:13:19.516491Z",
     "start_time": "2018-06-24T13:13:19.506529Z"
    }
   },
   "outputs": [
    {
     "name": "stdout",
     "output_type": "stream",
     "text": [
      "Coefficient:  0.6757341092113643\n",
      "p-value:  6.692470646864041e-34\n"
     ]
    }
   ],
   "source": [
    "x = tips['total_bill']\n",
    "y = tips['tip']\n",
    "\n",
    "r,p = pearsonr(x,y)\n",
    "print('Coefficient: ', r)\n",
    "print('p-value: ',p)"
   ]
  },
  {
   "cell_type": "markdown",
   "metadata": {},
   "source": [
    "## 1.5 Test for Normality\n",
    "https://machinelearningmastery.com/a-gentle-introduction-to-normality-tests-in-python/\n",
    "\n",
    "In statistical analysis, it is always important to be as percise as possible in our language. In general for a normality test, we are testing the null-hypothesis that the our 1D data is sampled from a population that has a Normal Distribution. We assume a significance level of 0.05 or 95% for our tests unless otherwise stated."
   ]
  },
  {
   "cell_type": "markdown",
   "metadata": {},
   "source": [
    "### 1.5.1 Shapiro Wilk\n",
    "\n",
    "The Shapiro-Wilk normality test is reputadely more well suited to smaller datasets.\n",
    "\n",
    "<code>shapiro(data)</code> this function returns (test-stat (W), p-value)\n",
    "\n",
    "Type of <b>data</b>: Univariate, Continuous\n",
    "\n",
    "If W=1, data is normally distributed.<br />\n",
    "If W<1, signifies the difference from normal distribution.\n",
    "\n",
    "<b>NOTE:</b> Other tests are: KS Test and Anderson-Darling test. One graphical method to test normality is QQ-plot"
   ]
  },
  {
   "cell_type": "code",
   "execution_count": 62,
   "metadata": {
    "ExecuteTime": {
     "end_time": "2018-07-31T14:26:48.278306Z",
     "start_time": "2018-07-31T14:26:48.272321Z"
    },
    "scrolled": true
   },
   "outputs": [
    {
     "name": "stdout",
     "output_type": "stream",
     "text": [
      "Test Stat: 0.420, p-value: 0.000\n"
     ]
    }
   ],
   "source": [
    "from scipy.stats import shapiro\n",
    "data = np.array([1,1,0,-1,2,1,3,-2,4,100], dtype='f').reshape(-1,1)\n",
    "stat, p = shapiro(data)\n",
    "print('Test Stat: %.3f, p-value: %.3f' % (stat, p))\n",
    "# returns (Test-statistics, p-value)"
   ]
  },
  {
   "cell_type": "code",
   "execution_count": 63,
   "metadata": {
    "ExecuteTime": {
     "end_time": "2018-07-31T14:26:48.552020Z",
     "start_time": "2018-07-31T14:26:48.545461Z"
    },
    "scrolled": true
   },
   "outputs": [
    {
     "data": {
      "text/plain": [
       "(0.41953399777412415, 4.197331406885496e-07)"
      ]
     },
     "execution_count": 63,
     "metadata": {},
     "output_type": "execute_result"
    }
   ],
   "source": [
    "# Lets now try to perform Shapiro-Wilk test on Normalized data\n",
    "\n",
    "from sklearn.preprocessing import MinMaxScaler\n",
    "shapiro(MinMaxScaler().fit_transform(data))"
   ]
  },
  {
   "cell_type": "code",
   "execution_count": 64,
   "metadata": {
    "ExecuteTime": {
     "end_time": "2018-07-31T14:26:49.051171Z",
     "start_time": "2018-07-31T14:26:49.044198Z"
    },
    "scrolled": false
   },
   "outputs": [
    {
     "data": {
      "text/plain": [
       "(0.41953399777412415, 4.197331406885496e-07)"
      ]
     },
     "execution_count": 64,
     "metadata": {},
     "output_type": "execute_result"
    }
   ],
   "source": [
    "# Lets now try to perform Shapiro-Wilk test on Standardized data\n",
    "\n",
    "from sklearn.preprocessing import StandardScaler\n",
    "shapiro(StandardScaler().fit_transform(data))"
   ]
  },
  {
   "cell_type": "markdown",
   "metadata": {},
   "source": [
    "<b>Observations: </b>\n",
    "1. Since our p-value is much less than our Test Statistic, we have good evidence to not reject the null hypothesis.\n",
    "\n",
    "2. Since Test-Stat(W) = 0.419, we can say that the data is not normally distributed\n",
    "\n",
    "3. Normalizing and Standardizing the data didn't changed the distribution."
   ]
  },
  {
   "cell_type": "markdown",
   "metadata": {},
   "source": [
    "### 1.5.2 QQ Plot"
   ]
  },
  {
   "cell_type": "markdown",
   "metadata": {},
   "source": [
    "In statistics, a Q–Q plot is a probability plot, which is a graphical method for comparing two probability distributions by plotting their quantiles against each other.     \n",
    "It helps us in understanding whether two random variables belong from same distribution.                         \n",
    "If the two distributions being compared are similar, the points in the Q–Q plot will approximately lie on the line y = x."
   ]
  },
  {
   "cell_type": "code",
   "execution_count": 66,
   "metadata": {
    "ExecuteTime": {
     "end_time": "2018-07-31T14:37:37.250394Z",
     "start_time": "2018-07-31T14:37:36.914274Z"
    },
    "scrolled": true
   },
   "outputs": [
    {
     "data": {
      "image/png": "[encoded data removed]",
      "text/plain": [
       "<Figure size 432x288 with 1 Axes>"
      ]
     },
     "metadata": {},
     "output_type": "display_data"
    }
   ],
   "source": [
    "import numpy as np\n",
    "import pylab\n",
    "import scipy.stats as stats\n",
    "\n",
    "std_normal = np.random.normal(0,1,5000)\n",
    "\n",
    "stats.probplot(std_normal, dist='norm', plot=pylab)\n",
    "\n",
    "pylab.show()"
   ]
  },
  {
   "cell_type": "code",
   "execution_count": 67,
   "metadata": {
    "ExecuteTime": {
     "end_time": "2018-07-31T14:37:37.361103Z",
     "start_time": "2018-07-31T14:37:37.351124Z"
    }
   },
   "outputs": [
    {
     "data": {
      "text/plain": [
       "(0.9994972348213196, 0.20866595208644867)"
      ]
     },
     "execution_count": 67,
     "metadata": {},
     "output_type": "execute_result"
    }
   ],
   "source": [
    "shapiro(std_normal)\n",
    "\n",
    "# Since Test-Stat(W) = 0.999, we can say that the distribution is normal"
   ]
  },
  {
   "cell_type": "code",
   "execution_count": 68,
   "metadata": {
    "ExecuteTime": {
     "end_time": "2018-07-31T14:37:40.242074Z",
     "start_time": "2018-07-31T14:37:40.073564Z"
    },
    "scrolled": false
   },
   "outputs": [
    {
     "data": {
      "image/png": "[encoded data removed]",
      "text/plain": [
       "<Figure size 432x288 with 1 Axes>"
      ]
     },
     "metadata": {},
     "output_type": "display_data"
    }
   ],
   "source": [
    "data = np.random.random((5000))\n",
    "\n",
    "stats.probplot(data, dist='norm', plot=pylab)\n",
    "\n",
    "pylab.show()"
   ]
  },
  {
   "cell_type": "code",
   "execution_count": 69,
   "metadata": {
    "ExecuteTime": {
     "end_time": "2018-07-31T14:37:54.385883Z",
     "start_time": "2018-07-31T14:37:54.379981Z"
    }
   },
   "outputs": [
    {
     "data": {
      "text/plain": [
       "(0.9579062461853027, 9.163690907219769e-36)"
      ]
     },
     "execution_count": 69,
     "metadata": {},
     "output_type": "execute_result"
    }
   ],
   "source": [
    "shapiro(data)\n",
    "\n",
    "# Since Test-Stat(W) = 0.419, we can say that the distribution is not normal"
   ]
  },
  {
   "cell_type": "markdown",
   "metadata": {},
   "source": [
    "## p-value\n",
    "\n",
    "https://www.youtube.com/watch?v=-MKT3yLDkqk"
   ]
  }
 ],
 "metadata": {
  "kernelspec": {
   "display_name": "Python 3",
   "language": "python",
   "name": "python3"
  },
  "language_info": {
   "codemirror_mode": {
    "name": "ipython",
    "version": 3
   },
   "file_extension": ".py",
   "mimetype": "text/x-python",
   "name": "python",
   "nbconvert_exporter": "python",
   "pygments_lexer": "ipython3",
   "version": "3.6.5"
  },
  "toc": {
   "nav_menu": {},
   "number_sections": true,
   "sideBar": true,
   "skip_h1_title": false,
   "title_cell": "Table of Contents",
   "title_sidebar": "Contents",
   "toc_cell": false,
   "toc_position": {
    "height": "calc(100% - 180px)",
    "left": "10px",
    "top": "150px",
    "width": "238px"
   },
   "toc_section_display": true,
   "toc_window_display": true
  },
  "varInspector": {
   "cols": {
    "lenName": 16,
    "lenType": 16,
    "lenVar": 40
   },
   "kernels_config": {
    "python": {
     "delete_cmd_postfix": "",
     "delete_cmd_prefix": "del ",
     "library": "var_list.py",
     "varRefreshCmd": "print(var_dic_list())"
    },
    "r": {
     "delete_cmd_postfix": ") ",
     "delete_cmd_prefix": "rm(",
     "library": "var_list.r",
     "varRefreshCmd": "cat(var_dic_list()) "
    }
   },
   "types_to_exclude": [
    "module",
    "function",
    "builtin_function_or_method",
    "instance",
    "_Feature"
   ],
   "window_display": false
  }
 },
 "nbformat": 4,
 "nbformat_minor": 2
}

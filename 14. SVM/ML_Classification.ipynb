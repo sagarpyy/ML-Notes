{
 "cells": [
  {
   "cell_type": "markdown",
   "metadata": {},
   "source": [
    "# Machine Learning"
   ]
  },
  {
   "cell_type": "markdown",
   "metadata": {},
   "source": [
    "## AI vs ML vs DL vs DS\n",
    "\n",
    "<img src = \"img/AI-ML-DL-DS.png\">"
   ]
  },
  {
   "cell_type": "markdown",
   "metadata": {},
   "source": [
    "## What is Machine Learning?\n",
    "\n",
    "Basically ML is a collection of tools, statistical methods and algorithms which helps computers to learn from data."
   ]
  },
  {
   "cell_type": "markdown",
   "metadata": {},
   "source": [
    "## Types of ML Algorithms\n",
    "\n",
    "Broadly, there are 3 types of ML Algorithms:\n",
    "<ol>\n",
    "<li>Supervised Algorithms</li>\n",
    "<li>Unsupervised Algorithms</li>\n",
    "<li>Reinforcement Learning - Learning by trail and error approach.</li>\n",
    "</ol>"
   ]
  },
  {
   "cell_type": "markdown",
   "metadata": {},
   "source": [
    "# Classification"
   ]
  },
  {
   "cell_type": "markdown",
   "metadata": {},
   "source": [
    "## What is Classification?"
   ]
  },
  {
   "cell_type": "markdown",
   "metadata": {},
   "source": [
    "Lets first take an example to understand what a classification problem actually looks like:<br />\n",
    "<br />\n",
    "<kbd>GIVEN</kbd> <b>Review text</b> for some product from any e-commerce website.<br />\n",
    "<kbd>TASK</kbd> Predict/Guess whether the review is <b>Positive</b> or <b>Negative</b>.<br />\n",
    "\n",
    "<img src=\"img/AmazonReview.png\">"
   ]
  },
  {
   "cell_type": "markdown",
   "metadata": {},
   "source": [
    "<b>OBSERVATIONS</b><br />\n",
    "<pre>\n",
    "a. We have two classes here, <b>Positive</b> & <b>Negative</b>.\n",
    "b. It is also called 2-class classification or Binary classification.\n",
    "</pre>\n"
   ]
  },
  {
   "cell_type": "markdown",
   "metadata": {},
   "source": [
    "## How does classification actually works?"
   ]
  },
  {
   "cell_type": "markdown",
   "metadata": {},
   "source": [
    "<p>\n",
    "Most of the Machine Learning is about finding a function.\n",
    "\n",
    "Machine Learning is not perfect. It will not learn the perfect function. It tries to do its best job using various techniques like: K-NN, SVM, Logistic Regression, Linear Regression, etc.\n",
    "\n",
    "Of course some of the techniques would be able to learn a better function compared to others.\n",
    "</p>\n",
    "<img src=\"img/train-test.png\">"
   ]
  },
  {
   "cell_type": "markdown",
   "metadata": {
    "ExecuteTime": {
     "end_time": "2018-02-05T10:48:52.713000Z",
     "start_time": "2018-02-05T10:48:52.703000Z"
    }
   },
   "source": [
    "<b>MATHEMATICAL FORMULATION</b><br />\n",
    "\n",
    "Training Stage: \n",
    "\\begin{align}\n",
    "D & = \\{(x_i, y_i)_{i=1}^n | \\ x_i \\in \\mathbb{R}^d, y_i \\in \\{0, 1\\}\\}\n",
    "\\end{align}\n",
    "\n",
    "Testing Stage:\n",
    "\\begin{align}\n",
    "y_q & = f(x_q)\n",
    "\\end{align}"
   ]
  },
  {
   "cell_type": "markdown",
   "metadata": {},
   "source": [
    "## Classification vs Regression"
   ]
  },
  {
   "cell_type": "markdown",
   "metadata": {},
   "source": [
    "Observe that in classification $$y_i \\in \\{0, 1\\}$$ \n",
    "\n",
    "<b>What if?</b> $$y_i \\in \\mathbb{R}$$\n",
    "\n",
    "$$ i.e. \\ y_i \\ is \\ no \\ more \\ part \\ of \\ a \\ small \\ finite \\  set \\ of \\ classes. $$\n",
    "\n",
    "Lets take an example to understand this:<br /><br />\n",
    "<kbd>GIVEN</kbd> Lets say we have 10K students. Now for each student we have their weight, age, gender, race. <br />\n",
    "<kbd>TASK</kbd> Predict height of each student?<br /><br />\n",
    "<kbd>OBSERVATIONS</kbd> Height is a Real Number. i.e. $$y_i \\in \\mathbb{R}$$<br />\n",
    "So, we can conclude that above task is a Regression task.\n"
   ]
  },
  {
   "cell_type": "markdown",
   "metadata": {},
   "source": [
    "# Classification Algorithm : Support Vector Machine"
   ]
  },
  {
   "cell_type": "markdown",
   "metadata": {},
   "source": [
    "## Visualizing a basic plot"
   ]
  },
  {
   "cell_type": "markdown",
   "metadata": {
    "cell_style": "split"
   },
   "source": [
    "Lets have a look at a plot.\n",
    "<img src=\"img/1.png\">"
   ]
  },
  {
   "cell_type": "markdown",
   "metadata": {
    "cell_style": "split",
    "collapsed": true
   },
   "source": [
    "There are multiple hyper planes separating positives from negatives.\n",
    "<img src=\"img/2.png\">"
   ]
  },
  {
   "cell_type": "markdown",
   "metadata": {},
   "source": [
    "## But where is the best hyper plane?\n",
    "\n",
    "<b>KEY IDEA:</b> SVM tries to find a hyperplane that separates <b>+ves</b> from <b>-ves</b> as widely as possible.\n",
    "<br /><br />\n",
    "Also known as <b>MARGIN MAXIMIZING</b> hyper plane."
   ]
  },
  {
   "cell_type": "markdown",
   "metadata": {
    "cell_style": "split"
   },
   "source": [
    "Lets look at this plane. Is this the best hyperplane?\n",
    "\n",
    "<img src=\"img/3.png\">"
   ]
  },
  {
   "cell_type": "markdown",
   "metadata": {
    "cell_style": "split"
   },
   "source": [
    "Lets try to draw a plane parallel to original plane and lets try to move it towards +ve points.\n",
    "\n",
    "<img src=\"img/4.png\">"
   ]
  },
  {
   "cell_type": "markdown",
   "metadata": {
    "cell_style": "split",
    "collapsed": true
   },
   "source": [
    "Similarly for -ve points.\n",
    "\n",
    "<img src=\"img/5.png\">"
   ]
  },
  {
   "cell_type": "markdown",
   "metadata": {
    "cell_style": "split",
    "collapsed": true
   },
   "source": [
    "We will end up getting this: (Separating, +ve & -ve Hyperplane)\n",
    "    \n",
    "<img src=\"img/6.png\">"
   ]
  },
  {
   "cell_type": "markdown",
   "metadata": {},
   "source": [
    "## Margin & Support Vectors"
   ]
  },
  {
   "cell_type": "markdown",
   "metadata": {
    "cell_style": "split"
   },
   "source": [
    "Now lets look at the Magin.\n",
    "\n",
    "<img src=\"img/7.png\">"
   ]
  },
  {
   "cell_type": "markdown",
   "metadata": {
    "cell_style": "split"
   },
   "source": [
    "Circled points are called SUPPORT VECTORS.\n",
    "\n",
    "<img src=\"img/8.png\">"
   ]
  },
  {
   "cell_type": "markdown",
   "metadata": {},
   "source": [
    "<b>MATHEMATICAL FORMULATION</b><br />\n",
    "\\begin{align}\n",
    "Margin & = distance(\\pi_+, \\pi_-)\n",
    "\\end{align}\n",
    "$$As \\ MARGIN \\ increases, \\ GENERALIZATION \\ ACCURACY \\ increases.$$"
   ]
  },
  {
   "cell_type": "markdown",
   "metadata": {},
   "source": [
    "## Intuition: How to actually find the Margin Maximizing Hyperplane?"
   ]
  },
  {
   "cell_type": "markdown",
   "metadata": {
    "cell_style": "split"
   },
   "source": [
    "Lets first understand the idea behind Convex Hull.\n",
    "\n",
    "Lets look at some shapes and understand what a convex hull is.\n",
    "\n",
    "<img src=\"img/convex-hull.png\">"
   ]
  },
  {
   "cell_type": "markdown",
   "metadata": {
    "cell_style": "split",
    "collapsed": true
   },
   "source": [
    "Lets now try to find margin maximizing Hyperplane using previous example.\n",
    "\n",
    "<img src=\"img/1.png\">"
   ]
  },
  {
   "cell_type": "markdown",
   "metadata": {
    "cell_style": "split"
   },
   "source": [
    "<b>STEP-1</b>\n",
    "Draw the convex hull for +ve and -ve points.\n",
    "\n",
    "<img src=\"img/9.png\">"
   ]
  },
  {
   "cell_type": "markdown",
   "metadata": {
    "cell_style": "split"
   },
   "source": [
    "<b>STEP-2</b>\n",
    "Find the shortest line connecting these  hulls.\n",
    "\n",
    "<img src=\"img/10.png\">"
   ]
  },
  {
   "cell_type": "markdown",
   "metadata": {},
   "source": [
    "<b>STEP-3</b>\n",
    "Bisect the line. i.e break it into two equal parts\n",
    "\n",
    "<img src=\"img/11.png\">"
   ]
  },
  {
   "cell_type": "markdown",
   "metadata": {},
   "source": [
    "# That's all, Thank you!\n",
    "\n",
    "<img src = \"img/questions.jpg\">"
   ]
  }
 ],
 "metadata": {
  "kernelspec": {
   "display_name": "Python 3",
   "language": "python",
   "name": "python3"
  },
  "language_info": {
   "codemirror_mode": {
    "name": "ipython",
    "version": 3
   },
   "file_extension": ".py",
   "mimetype": "text/x-python",
   "name": "python",
   "nbconvert_exporter": "python",
   "pygments_lexer": "ipython3",
   "version": "3.6.5"
  },
  "toc": {
   "nav_menu": {},
   "number_sections": true,
   "sideBar": true,
   "skip_h1_title": false,
   "title_cell": "Table of Contents",
   "title_sidebar": "Contents",
   "toc_cell": false,
   "toc_position": {
    "height": "calc(100% - 180px)",
    "left": "10px",
    "top": "150px",
    "width": "176px"
   },
   "toc_section_display": true,
   "toc_window_display": true
  },
  "varInspector": {
   "cols": {
    "lenName": 16,
    "lenType": 16,
    "lenVar": 40
   },
   "kernels_config": {
    "python": {
     "delete_cmd_postfix": "",
     "delete_cmd_prefix": "del ",
     "library": "var_list.py",
     "varRefreshCmd": "print(var_dic_list())"
    },
    "r": {
     "delete_cmd_postfix": ") ",
     "delete_cmd_prefix": "rm(",
     "library": "var_list.r",
     "varRefreshCmd": "cat(var_dic_list()) "
    }
   },
   "types_to_exclude": [
    "module",
    "function",
    "builtin_function_or_method",
    "instance",
    "_Feature"
   ],
   "window_display": false
  }
 },
 "nbformat": 4,
 "nbformat_minor": 2
}
